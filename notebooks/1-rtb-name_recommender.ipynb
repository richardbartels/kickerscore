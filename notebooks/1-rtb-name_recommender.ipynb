{
 "cells": [
  {
   "cell_type": "code",
   "execution_count": 7,
   "metadata": {},
   "outputs": [],
   "source": [
    "import itertools\n",
    "import numpy as np\n",
    "import requests\n",
    "import pandas as pd\n",
    "import json\n",
    "import os"
   ]
  },
  {
   "cell_type": "markdown",
   "metadata": {},
   "source": [
    "### Slack identity"
   ]
  },
  {
   "cell_type": "code",
   "execution_count": 8,
   "metadata": {},
   "outputs": [
    {
     "name": "stdout",
     "output_type": "stream",
     "text": [
      "Requirement already satisfied: slackclient in /anaconda3/lib/python3.6/site-packages (1.3.0)\n",
      "Requirement already satisfied: websocket-client<1.0a0,>=0.35 in /anaconda3/lib/python3.6/site-packages (from slackclient) (0.54.0)\n",
      "Requirement already satisfied: requests<3.0a0,>=2.11 in /anaconda3/lib/python3.6/site-packages (from slackclient) (2.19.1)\n",
      "Requirement already satisfied: six<2.0a0,>=1.10 in /anaconda3/lib/python3.6/site-packages (from slackclient) (1.11.0)\n",
      "Requirement already satisfied: urllib3<1.24,>=1.21.1 in /anaconda3/lib/python3.6/site-packages (from requests<3.0a0,>=2.11->slackclient) (1.22)\n",
      "Requirement already satisfied: idna<2.8,>=2.5 in /anaconda3/lib/python3.6/site-packages (from requests<3.0a0,>=2.11->slackclient) (2.6)\n",
      "Requirement already satisfied: certifi>=2017.4.17 in /anaconda3/lib/python3.6/site-packages (from requests<3.0a0,>=2.11->slackclient) (2018.4.16)\n",
      "Requirement already satisfied: chardet<3.1.0,>=3.0.2 in /anaconda3/lib/python3.6/site-packages (from requests<3.0a0,>=2.11->slackclient) (3.0.4)\n",
      "\u001b[33mYou are using pip version 18.1, however version 19.0.1 is available.\n",
      "You should consider upgrading via the 'pip install --upgrade pip' command.\u001b[0m\n"
     ]
    }
   ],
   "source": [
    "!pip install slackclient\n",
    "from slackclient import SlackClient"
   ]
  },
  {
   "cell_type": "code",
   "execution_count": 10,
   "metadata": {},
   "outputs": [],
   "source": [
    "slack_oauth_token = os.environ[\"SLACK_TOKEN\"]"
   ]
  },
  {
   "cell_type": "code",
   "execution_count": 11,
   "metadata": {},
   "outputs": [],
   "source": [
    "sc = SlackClient(slack_oauth_token)"
   ]
  },
  {
   "cell_type": "code",
   "execution_count": 12,
   "metadata": {},
   "outputs": [],
   "source": [
    "channels = sc.api_call(\"conversations.list\")['channels']\n"
   ]
  },
  {
   "cell_type": "code",
   "execution_count": 13,
   "metadata": {},
   "outputs": [],
   "source": [
    "# Get shared-channel ids\n",
    "shared_channels = ['big-d-and-the-v']\n",
    "kickerscore_channel_ids = []\n",
    "for d in channels:\n",
    "    if d['name'] in shared_channels:\n",
    "        kickerscore_channel_ids.append(d['id'])\n",
    "        "
   ]
  },
  {
   "cell_type": "code",
   "execution_count": 14,
   "metadata": {},
   "outputs": [],
   "source": [
    "# Get member ids\n",
    "current_slack_members = []\n",
    "import logging\n",
    "logger = logging.getLogger(__name__)\n",
    "for channel_id in kickerscore_channel_ids:\n",
    "    logger.info(\"Running new channel member check for {}\".format(channel_id))\n",
    "    current_slack_members += sc.api_call(\n",
    "        \"conversations.members\", channel=channel_id)[\"members\"]"
   ]
  },
  {
   "cell_type": "code",
   "execution_count": 15,
   "metadata": {},
   "outputs": [],
   "source": [
    "# map member ids to names\n",
    "id2name = {}\n",
    "for pl in current_slack_members:\n",
    "    player_info = sc.api_call(\"users.info\", user=pl)[\"user\"]\n",
    "    id2name[pl] = player_info['profile']['real_name']"
   ]
  },
  {
   "cell_type": "code",
   "execution_count": 16,
   "metadata": {},
   "outputs": [
    {
     "data": {
      "text/plain": [
       "{'U23UM3VA7': 'Bertjan Broeksema',\n",
       " 'U240800MP': 'Steven Reitsma',\n",
       " 'U2408BZE2': 'Hans Adriaans',\n",
       " 'U2409HL72': 'Coen Seinen',\n",
       " 'U2409KS1E': 'Alexander Backus',\n",
       " 'U240SPC5B': 'Gerben Oostra',\n",
       " 'U276J8Z4Z': 'Sophron Vermeij',\n",
       " 'U2XCYG1S8': 'Michel Meulpolder',\n",
       " 'U39UDRUUX': 'Bram Neijt',\n",
       " 'U3L16HPBP': 'Davey Mollinger',\n",
       " 'U3LJ5CX0C': 'Paula Amaral Santos',\n",
       " 'U3ZFYF9U5': 'Ruurtjan Pul',\n",
       " 'U4SRCTC0H': 'Robbert van der Gugten',\n",
       " 'U567PJY3T': 'Roman Daukuls',\n",
       " 'U5MTUMEQP': 'Tom Lemmens',\n",
       " 'U62H5E89X': 'Tom de Ruijter',\n",
       " 'U6HD4QUA3': 'Dennis Ramondt',\n",
       " 'U8MH0DSER': 'Erik Jan de Vries',\n",
       " 'U8NS8SF7A': 'Edwin de Jong',\n",
       " 'U8QNBGFQC': 'Fred',\n",
       " 'U9AKYPJNL': 'Diederik Jan Lemkes',\n",
       " 'U9CNB16TW': 'Rob Brinkman',\n",
       " 'U9T1TAYTG': 'Jaap de Koning',\n",
       " 'UAGCD18TX': 'Stefan Verbruggen',\n",
       " 'UBGSMHPL1': 'Axel Goblet',\n",
       " 'UBHGYUV8C': 'Sven Stringer',\n",
       " 'UBJ71CQ9G': 'Burcak',\n",
       " 'UCUQG916E': 'Huib Keemink',\n",
       " 'UD4HYDTL2': 'Gerard Toonstra',\n",
       " 'UFASRK4MD': 'Daphne Hensbergen',\n",
       " 'UFPC1NXEH': 'Wijnand',\n",
       " 'UBH8BU2CT': 'Jasper Derikx',\n",
       " 'UCL9SPDJ6': 'Richard Bartels',\n",
       " 'UD4C123SP': 'Lieke Kools',\n",
       " 'UD4C25Q1H': 'Tim Elfrink',\n",
       " 'UDTKJ3DPA': 'Mike Kraus',\n",
       " 'UDUAZJR0T': 'Guido Tournois',\n",
       " 'UF9CCQ95L': 'Jasper Makkinje'}"
      ]
     },
     "execution_count": 16,
     "metadata": {},
     "output_type": "execute_result"
    }
   ],
   "source": [
    "id2name"
   ]
  },
  {
   "cell_type": "markdown",
   "metadata": {},
   "source": [
    "## Check the flask app"
   ]
  },
  {
   "cell_type": "code",
   "execution_count": 17,
   "metadata": {},
   "outputs": [
    {
     "name": "stdout",
     "output_type": "stream",
     "text": [
      "#1: Robbert van der Gugten\n",
      "#2: Axel Goblet\n",
      "#3: Richard Bartels\n",
      "#4: Huib Keemink\n",
      "#5: Ruurtjan Pul\n"
     ]
    }
   ],
   "source": [
    "d = {'slack_ids' :  [\"UDTKJ3DPA\", \"UBGSMHPL1\"]} # Mike & Axel\n",
    "d = {'slack_ids' :  [\"U3L16HPBP\"]} # Davey\n",
    "# d = {'slack_ids' :  ['UBH8BU2CT']} # Jasper D.\n",
    "# d = {'slack_ids' :  ['U6HD4QUA3']} # Dennis --> Doesn't exist as a key\n",
    "# d = {'slack_ids' :  ['UBH8BU2CT', 'U6HD4QUA3']} # Jasper D. & Dennis\n",
    "ids = requests.post(\"http://localhost:8080\", headers={'Content-Type': 'application/json'}, data=json.dumps(d))\n",
    "for ix, i in enumerate(json.loads(ids.text)['slack_ids']):\n",
    "    try:\n",
    "        print(\"#%i: %s\"%(ix+1, id2name[i]))\n",
    "    except KeyError:\n",
    "        print(\"#%i: -\"%(ix+1))"
   ]
  },
  {
   "cell_type": "code",
   "execution_count": null,
   "metadata": {},
   "outputs": [],
   "source": []
  }
 ],
 "metadata": {
  "kernelspec": {
   "display_name": "Python 3",
   "language": "python",
   "name": "python3"
  },
  "language_info": {
   "codemirror_mode": {
    "name": "ipython",
    "version": 3
   },
   "file_extension": ".py",
   "mimetype": "text/x-python",
   "name": "python",
   "nbconvert_exporter": "python",
   "pygments_lexer": "ipython3",
   "version": "3.6.5"
  }
 },
 "nbformat": 4,
 "nbformat_minor": 2
}
